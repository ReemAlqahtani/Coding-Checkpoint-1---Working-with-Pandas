{
 "cells": [
  {
   "cell_type": "code",
   "execution_count": 1,
   "id": "c0cae13c",
   "metadata": {},
   "outputs": [
    {
     "name": "stdout",
     "output_type": "stream",
     "text": [
      "[-3, 'big', 'big', -9, -10, 'big']\n"
     ]
    }
   ],
   "source": [
    "def  biggie_size(listy):\n",
    "    for i in range(len(listy)):\n",
    "      if  listy[i]>0:\n",
    "       listy[i]=\"big\"\n",
    "    return listy\n",
    "print( biggie_size([-3,6,8,-9,-10,47]))"
   ]
  },
  {
   "cell_type": "code",
   "execution_count": 2,
   "id": "22d63a09",
   "metadata": {},
   "outputs": [
    {
     "name": "stdout",
     "output_type": "stream",
     "text": [
      "[-1, 1, 1, 3]\n"
     ]
    }
   ],
   "source": [
    "def count_positives (listy):\n",
    "    count=0\n",
    "    for i in range(len(listy)):\n",
    "    \n",
    "        if  listy[i]>0:\n",
    "            count += 1\n",
    "            listy[-1]=count \n",
    "    return listy\n",
    "print(count_positives([-1,1,1,1]))"
   ]
  },
  {
   "cell_type": "code",
   "execution_count": 4,
   "id": "08e85f71",
   "metadata": {},
   "outputs": [
    {
     "name": "stdout",
     "output_type": "stream",
     "text": [
      "2.5\n"
     ]
    }
   ],
   "source": [
    "def avg(listy):\n",
    "    sum = 0\n",
    "    for val in listy:\n",
    "        sum += val\n",
    "    return (sum/len(listy))\n",
    "print(avg([1,2,3,4]))"
   ]
  },
  {
   "cell_type": "code",
   "execution_count": 5,
   "id": "51422861",
   "metadata": {},
   "outputs": [
    {
     "name": "stdout",
     "output_type": "stream",
     "text": [
      "4\n"
     ]
    }
   ],
   "source": [
    "def lengthOfarr(mylist):\n",
    "    return len(mylist)\n",
    "print(lengthOfarr([37,2,1,-9]))\n"
   ]
  },
  {
   "cell_type": "code",
   "execution_count": 6,
   "id": "38ebfb02",
   "metadata": {},
   "outputs": [
    {
     "name": "stdout",
     "output_type": "stream",
     "text": [
      "-9\n"
     ]
    }
   ],
   "source": [
    "def minimum(listy):\n",
    "    if len(listy)<0:\n",
    "        return False\n",
    "    minInt = listy[0]\n",
    "    for val in listy:\n",
    "        if val<minInt:\n",
    "            minInt = val\n",
    "    return minInt\n",
    "print(minimum([37,2,1,-9]))"
   ]
  },
  {
   "cell_type": "code",
   "execution_count": 7,
   "id": "7b26a2ec",
   "metadata": {},
   "outputs": [
    {
     "name": "stdout",
     "output_type": "stream",
     "text": [
      "37\n"
     ]
    }
   ],
   "source": [
    "def maximum(listy):\n",
    "    if len(listy)<0:\n",
    "        return False\n",
    "    minInt = listy[0]\n",
    "    for val in listy:\n",
    "        if val>minInt:\n",
    "            minInt = val\n",
    "    return minInt\n",
    "print(minimum([37,2,1,-9]))"
   ]
  },
  {
   "cell_type": "code",
   "execution_count": 9,
   "id": "e29c3f3b",
   "metadata": {},
   "outputs": [
    {
     "name": "stdout",
     "output_type": "stream",
     "text": [
      "{'sumTotal': 10, 'average': 1.6666666666666667, 'minimum': 4, 'maximun': 0, 'length': 6}\n",
      "{'sumTotal': 1, 'average': 0.5, 'minimum': 1, 'maximun': 0, 'length': 2}\n",
      "{'sumTotal': 20, 'average': 5.0, 'minimum': 15, 'maximun': 0, 'length': 4}\n"
     ]
    }
   ],
   "source": [
    "def ultimate_analysis(listy):\n",
    "    myDictonary = {'sumTotal': 0, 'average': 0, 'minimum': listy[0], 'maximun': listy[0], 'length': len(listy)}\n",
    "    for i in listy:\n",
    "        if myDictonary['minimum']<i:\n",
    "            myDictonary['minimum'] = i\n",
    "        if myDictonary['maximun']>i:\n",
    "            myDictonary['maximun'] = i\n",
    "        myDictonary['sumTotal']+= i\n",
    "        myDictonary['average']=myDictonary['sumTotal']/len(listy)\n",
    "    return myDictonary\n",
    "print(ultimate_analysis([1,2,1,2,4,0]))\n",
    "print(ultimate_analysis([1,0]))\n",
    "print(ultimate_analysis([15,4,1,0]))\n",
    "    "
   ]
  },
  {
   "cell_type": "code",
   "execution_count": 10,
   "id": "688c829a",
   "metadata": {},
   "outputs": [
    {
     "name": "stdout",
     "output_type": "stream",
     "text": [
      "[-9, 2, 1, 37]\n"
     ]
    }
   ],
   "source": [
    "def reverse_list(listy):\n",
    "    for i in range(0, (len(listy)-1)//2):\n",
    "        temp = listy[i]\n",
    "        listy[i] = listy[len(listy)-1-i]\n",
    "        listy[len(listy)-1-i] = temp\n",
    "    return listy\n",
    "print(reverse_list([37,2,1,-9]))"
   ]
  },
  {
   "cell_type": "code",
   "execution_count": null,
   "id": "919aef11",
   "metadata": {},
   "outputs": [],
   "source": []
  }
 ],
 "metadata": {
  "kernelspec": {
   "display_name": "Python 3",
   "language": "python",
   "name": "python3"
  },
  "language_info": {
   "codemirror_mode": {
    "name": "ipython",
    "version": 3
   },
   "file_extension": ".py",
   "mimetype": "text/x-python",
   "name": "python",
   "nbconvert_exporter": "python",
   "pygments_lexer": "ipython3",
   "version": "3.8.8"
  }
 },
 "nbformat": 4,
 "nbformat_minor": 5
}
